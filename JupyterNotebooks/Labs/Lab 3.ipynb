{
 "cells": [
  {
   "cell_type": "markdown",
   "metadata": {},
   "source": [
    "# Lab Three\n",
    "---\n",
    "\n",
    "For this lab we're going to get into logic\n",
    "\n",
    "Our Goals are:\n",
    "- Using Conditionals\n",
    "- Using Loops\n",
    "- Creating a Function\n",
    "- Using a Class"
   ]
  },
  {
   "cell_type": "code",
   "execution_count": 81,
   "metadata": {},
   "outputs": [
    {
     "name": "stdout",
     "output_type": "stream",
     "text": [
      "We're going to Florida!\n"
     ]
    }
   ],
   "source": [
    "# Create an if statement\n",
    "won_lacrosse = False\n",
    "if won_lacrosse :\n",
    "    print (\"We're going to Nationals!\")\n",
    "if True:\n",
    " print(\"We're going to Florida!\")"
   ]
  },
  {
   "cell_type": "code",
   "execution_count": 6,
   "metadata": {},
   "outputs": [
    {
     "name": "stdout",
     "output_type": "stream",
     "text": [
      "The goalie let a goal in ... I hate him.\n"
     ]
    }
   ],
   "source": [
    "# Create an if else statement\n",
    "won_lacrosse = False\n",
    "if won_lacrosse:\n",
    "    print(\"We're going to Nationals!\")\n",
    "else:\n",
    "    print(\"The goalie let a goal in ... I hate him.\")"
   ]
  },
  {
   "cell_type": "code",
   "execution_count": 11,
   "metadata": {},
   "outputs": [
    {
     "name": "stdout",
     "output_type": "stream",
     "text": [
      "The goalie let a goal in ... I hate him.\n"
     ]
    }
   ],
   "source": [
    "# Create an if elif else statement\n",
    "won_lacrosse = False\n",
    "supported_by_Marist = True\n",
    "good_lacrosse_team = False\n",
    "if won_lacrosse:\n",
    "        print(\"We're going to Nationals!\")\n",
    "elif supported_by_Marist and good_lacrosse_team:\n",
    "        print(\"We are good already. I don't have to try.\")\n",
    "else: \n",
    "        print(\"The goalie let a goal in ... I hate him.\")\n"
   ]
  },
  {
   "cell_type": "code",
   "execution_count": 82,
   "metadata": {},
   "outputs": [
    {
     "name": "stdout",
     "output_type": "stream",
     "text": [
      "0\n",
      "1\n",
      "2\n",
      "3\n",
      "4\n",
      "5\n",
      "6\n",
      "7\n",
      "8\n",
      "9\n"
     ]
    }
   ],
   "source": [
    "# Create a for loop using range(). Go from 0 to 9. Print out each number.\n",
    "for value in range (0, 10):\n",
    "    print(value)"
   ]
  },
  {
   "cell_type": "code",
   "execution_count": 14,
   "metadata": {},
   "outputs": [
    {
     "name": "stdout",
     "output_type": "stream",
     "text": [
      "Blue\n",
      "Yellow\n",
      "Red\n",
      "Green\n",
      "Purple\n",
      "Magenta\n",
      "Lilac\n"
     ]
    }
   ],
   "source": [
    "# Create a for loop iterating through this list and printing out the value.\n",
    "arr = ['Blue', 'Yellow', 'Red', 'Green', 'Purple', 'Magenta', 'Lilac']\n",
    "for item in arr:\n",
    "    print(item)\n",
    "# Get the length of the list above and print it."
   ]
  },
  {
   "cell_type": "code",
   "execution_count": 85,
   "metadata": {},
   "outputs": [
    {
     "name": "stdout",
     "output_type": "stream",
     "text": [
      "We do not know how many fingers he is holding up\n",
      "We do not know how many fingers he is holding up\n",
      "We do not know how many fingers he is holding up\n",
      "We do not know how many fingers he is holding up\n",
      "We do not know how many fingers he is holding up\n",
      "We do not know how many fingers he is holding up\n",
      "We know how man fingers he is holding up, it was: 6\n"
     ]
    }
   ],
   "source": [
    "# Create a while loop that ends after 6 times through. Print something for each pass.\n",
    "from random import randint\n",
    "fingers_up = 6\n",
    "position = 0\n",
    "while position != fingers_up:\n",
    "    print(\"We do not know how many fingers he is holding up\")\n",
    "    position += 1\n",
    "print(\"We know how man fingers he is holding up, it was:\", fingers_up)"
   ]
  },
  {
   "cell_type": "code",
   "execution_count": 88,
   "metadata": {
    "tags": []
   },
   "outputs": [
    {
     "name": "stdout",
     "output_type": "stream",
     "text": [
      "7\n"
     ]
    }
   ],
   "source": [
    "# Create a function to add 2 numbers together. Print out the number\n",
    "x = 3\n",
    "y = 4\n",
    "def add(a,b):\n",
    "    is_true = (a + b)\n",
    "    print(is_true)\n",
    "add(x,y)"
   ]
  },
  {
   "cell_type": "code",
   "execution_count": 91,
   "metadata": {},
   "outputs": [
    {
     "name": "stdout",
     "output_type": "stream",
     "text": [
      "odd\n"
     ]
    }
   ],
   "source": [
    "# Create a function that tells you if a number is odd or even and print the result.\n",
    "x = 6\n",
    "y = 3\n",
    "def odd_or_even(x):\n",
    "    if x % 2 == 0:\n",
    "        print(\"even\")\n",
    "    elif x % 2 == 1:\n",
    "        print(\"odd\")\n",
    "odd_or_even(y)\n"
   ]
  },
  {
   "cell_type": "code",
   "execution_count": 95,
   "metadata": {
    "tags": []
   },
   "outputs": [
    {
     "name": "stdout",
     "output_type": "stream",
     "text": [
      "This dog's name is Riley\n",
      "This dog's weight is 60 Pounds\n",
      "This dog's height is 200 Inches\n",
      "Breed: Pitbull\n",
      "Riley\n"
     ]
    }
   ],
   "source": [
    "# Initialize an instance of the following class. Use a variable to store the object and then call the info function to print out the attributes.\n",
    "class Dog(object):\n",
    "    def __init__(self, name, height, weight, breed):\n",
    "        self.name = name\n",
    "        self.height = height\n",
    "        self.weight = weight\n",
    "        self.breed = breed\n",
    "\n",
    "    def info(self):\n",
    "        print(\"This dog's name is \" + self.name)\n",
    "        print(\"This dog's weight is \" + str(self.weight) + \" Pounds\")\n",
    "        print(\"This dog's height is \" + str(self.height) + \" Inches\")\n",
    "        print(\"Breed:\", self.breed)\n",
    "if __name__ == \"__main__\":\n",
    "    Ry = Dog(\"Riley\", 200, 60, \"Pitbull\")\n",
    "    Ry.info()\n",
    "    print(Ry.name)\n",
    "\n",
    "    "
   ]
  }
 ],
 "metadata": {
  "interpreter": {
   "hash": "6b5318982f8d72d90cd36bfa2e98546ee27090b6a028d8e71394b9f0a4a0e32e"
  },
  "kernelspec": {
   "display_name": "Python 3.8.5 64-bit",
   "language": "python",
   "name": "python3"
  },
  "language_info": {
   "codemirror_mode": {
    "name": "ipython",
    "version": 3
   },
   "file_extension": ".py",
   "mimetype": "text/x-python",
   "name": "python",
   "nbconvert_exporter": "python",
   "pygments_lexer": "ipython3",
   "version": "3.8.9"
  },
  "orig_nbformat": 2
 },
 "nbformat": 4,
 "nbformat_minor": 2
}
